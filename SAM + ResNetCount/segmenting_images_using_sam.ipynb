{
 "cells": [
  {
   "cell_type": "code",
   "execution_count": 6,
   "id": "a1bc647f-65ff-434a-aff0-d09cb453db95",
   "metadata": {},
   "outputs": [],
   "source": [
    "import os, argparse\n",
    "from tqdm import tqdm\n",
    "import numpy as np\n",
    "import torch\n",
    "from torch.utils.data import DataLoader\n",
    "from torchvision import transforms, utils\n",
    "import matplotlib.pyplot as plt\n",
    "import cv2\n",
    "from PIL import Image\n",
    "import sys\n",
    "sys.path.append(\"..\")\n",
    "\n",
    "import segmentation_models_pytorch as smp\n",
    "from segment_anything import sam_model_registry, SamAutomaticMaskGenerator, SamPredictor\n",
    "from dataset import PhenotypeDataset, train_augmentation, validation_augmentation, get_preprocessing"
   ]
  },
  {
   "cell_type": "code",
   "execution_count": 7,
   "id": "bec70c89-0eb5-4c34-a290-96a66ffe237e",
   "metadata": {},
   "outputs": [],
   "source": [
    "def load_sam(sam_checkpoint, model_type):\n",
    "\t#for now\n",
    "\tdevice = \"cpu\"\n",
    "\n",
    "\tsam = sam_model_registry[model_type](checkpoint=sam_checkpoint)\n",
    "\tsam.to(device=device)\n",
    "\n",
    "\treturn SamAutomaticMaskGenerator(sam)"
   ]
  },
  {
   "cell_type": "code",
   "execution_count": 8,
   "id": "10a63563-7cb9-4f8a-8400-23ce7945832c",
   "metadata": {},
   "outputs": [],
   "source": [
    "model_path = \"../sam_vit_h_4b8939.pth\"\n",
    "model_type = \"vit_h\"\n",
    "root_dir = \"/Users/amankumar/Library/CloudStorage/OneDrive-UniversityofWaterloo/uWaterloo Courses/Winter '23/CS 679/Project/leaf_counting/Plant\"\n",
    "if torch.backends.mps.is_available():\n",
    "    device = \"mps\"\n",
    "elif torch.cuda.is_available():\n",
    "    device = \"cuda\"\n",
    "else:\n",
    "    device = \"cpu\"\n",
    "\n",
    "#Loading dataset\n",
    "\n",
    "preprocess_input = smp.encoders.get_preprocessing_fn('resnet18', pretrained='imagenet')\n",
    "mask_generator = load_sam(model_path, model_type)"
   ]
  },
  {
   "cell_type": "code",
   "execution_count": 9,
   "id": "3264a071-114a-4773-8930-35df8366bc3f",
   "metadata": {},
   "outputs": [],
   "source": [
    "#!rm \"/Users/amankumar/Library/CloudStorage/OneDrive-UniversityofWaterloo/uWaterloo Courses/Winter '23/CS 679/Project/leaf_counting/Plant/train/.DS_Store\"\n",
    "phenotype_dataset_train = PhenotypeDataset(root_dir=os.path.join(root_dir, 'train'), transform=train_augmentation())#, preprocessing=get_preprocessing(preprocessing_fn))\n",
    "phenotype_dataset_test = PhenotypeDataset(root_dir=os.path.join(root_dir, 'test'), transform=validation_augmentation())#, preprocessing=get_preprocessing(preprocessing_fn))\n",
    "\n",
    "batch_size = 4\n",
    "train_dataloader = DataLoader(phenotype_dataset_train, batch_size=batch_size, shuffle=True)\n",
    "test_dataloader = DataLoader(phenotype_dataset_test, batch_size=32, shuffle=False)"
   ]
  },
  {
   "cell_type": "code",
   "execution_count": null,
   "id": "5c484754-6374-414c-b496-79dfdc6593b6",
   "metadata": {},
   "outputs": [
    {
     "name": "stderr",
     "output_type": "stream",
     "text": [
      "0it [00:00, ?it/s]"
     ]
    },
    {
     "name": "stdout",
     "output_type": "stream",
     "text": [
      "0: Deleted sizes: 78418, 23773 | Last element now = 23220\n",
      "2: Deleted sizes: 83850, 9021 | Last element now = 659\n",
      "2: Deleted sizes: 71057, 12371 | Last element now = 174\n"
     ]
    },
    {
     "name": "stderr",
     "output_type": "stream",
     "text": [
      "1it [02:55, 175.50s/it]"
     ]
    },
    {
     "name": "stdout",
     "output_type": "stream",
     "text": [
      "2: Deleted sizes: 98449, 12371 | Last element now = 3676\n",
      "1: Deleted sizes: 86811, 14605 | Last element now = 944\n",
      "2: Deleted sizes: 101981, 14605 | Last element now = 2367\n",
      "2: Deleted sizes: 101303, 14605 | Last element now = 2828\n"
     ]
    },
    {
     "name": "stderr",
     "output_type": "stream",
     "text": [
      "2it [05:51, 176.08s/it]"
     ]
    },
    {
     "name": "stdout",
     "output_type": "stream",
     "text": [
      "2: Deleted sizes: 13103, 8856 | Last element now = 7761\n"
     ]
    }
   ],
   "source": [
    "save_path = \"Processed_Plant/train\"\n",
    "j = 0\n",
    "for i, batch in tqdm(enumerate(train_dataloader, 0)):\n",
    "    for img in batch[\"image\"]:\n",
    "        img = img.numpy()\n",
    "        masks = mask_generator.generate(img)\n",
    "        sorted_masks = sorted(masks, key=(lambda x: x['area']), reverse=False)\n",
    "        \n",
    "        total_sum = sum([i[\"area\"] for i in sorted_masks])\n",
    "        if sorted_masks[-1][\"area\"]/total_sum > 0.05:\n",
    "            del_1 = sorted_masks[-1][\"area\"]\n",
    "            sorted_masks.pop(-1)\n",
    "        if sorted_masks[-1][\"area\"]/total_sum > 0.05:\n",
    "            del_2 = sorted_masks[-1][\"area\"]\n",
    "            sorted_masks.pop(-1)\n",
    "        print(\"{}: Deleted sizes: {}, {} | Last element now = {}\".format(i, del_1, del_2, sorted_masks[-1][\"area\"]))\n",
    "        superimposed = np.zeros((img.shape[0], img.shape[1], 3))          \n",
    "        for mask in sorted_masks:\n",
    "            m = mask['segmentation']\n",
    "            m = np.repeat(m[:, :, np.newaxis], 3, axis=2)*1.0\n",
    "            #print(mask[\"area\"])\n",
    "            color_mask = np.random.random((1, 3)).tolist()[0]\n",
    "            for i in range(3):\n",
    "                m[:,:,i] = m[:,:,i]*color_mask[i]\n",
    "            superimposed = superimposed + m\n",
    "        \n",
    "        im = Image.fromarray((superimposed * 255).astype(np.uint8))\n",
    "        im.save(os.path.join(save_path,\"plant_{}.png\".format(j)))\n",
    "        j = j + 1\n",
    "\n"
   ]
  },
  {
   "cell_type": "code",
   "execution_count": null,
   "id": "e7dbd73c-06f6-41ef-bd26-d768e0e3a71f",
   "metadata": {},
   "outputs": [],
   "source": []
  }
 ],
 "metadata": {
  "kernelspec": {
   "display_name": "Python 3 (ipykernel)",
   "language": "python",
   "name": "python3"
  },
  "language_info": {
   "codemirror_mode": {
    "name": "ipython",
    "version": 3
   },
   "file_extension": ".py",
   "mimetype": "text/x-python",
   "name": "python",
   "nbconvert_exporter": "python",
   "pygments_lexer": "ipython3",
   "version": "3.8.16"
  }
 },
 "nbformat": 4,
 "nbformat_minor": 5
}
